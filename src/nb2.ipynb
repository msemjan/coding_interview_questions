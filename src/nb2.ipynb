{
 "cells": [
  {
   "cell_type": "markdown",
   "metadata": {},
   "source": [
    "# Find Cycles in a Graph (Facebook)\n",
    "Given an undirected graph, determine if a cycle exists in the graph.\n",
    "\n",
    "Can you solve this in linear time, linear space?"
   ]
  },
  {
   "cell_type": "code",
   "execution_count": 85,
   "metadata": {},
   "outputs": [
    {
     "name": "stdout",
     "output_type": "stream",
     "text": [
      "None\n",
      "None\n"
     ]
    }
   ],
   "source": [
    "# https://www.python-course.eu/graphs_python.php\n",
    "\n",
    "def find_cycle(graph):\n",
    "    pass\n",
    "\n",
    "\n",
    "def dfs(graph):\n",
    "    pass\n",
    "    \n",
    "    \n",
    "graph = {\n",
    "  'a': {'a2':{}, 'a3':{} },\n",
    "  'b': {'b2':{}},\n",
    "  'c': {}\n",
    "}\n",
    "\n",
    "\n",
    "print(find_cycle(graph))\n",
    "# False\n",
    "\n",
    "graph['c'] = graph\n",
    "print(find_cycle(graph))\n",
    "# True\n"
   ]
  },
  {
   "cell_type": "markdown",
   "metadata": {},
   "source": [
    "# Longest Sequence with Two Unique Numbers (Facebook)\n",
    "Given a sequence of numbers, find the longest sequence that contains only 2 unique numbers.\n",
    "\n",
    "Example:\n",
    "> Input: ```[1, 3, 5, 3, 1, 3, 1, 5]```\n",
    "> \n",
    "> Output: ```4```\n",
    "\n",
    "The longest sequence that contains just 2 unique numbers is ```[3, 1, 3, 1]```"
   ]
  },
  {
   "cell_type": "code",
   "execution_count": 21,
   "metadata": {},
   "outputs": [
    {
     "name": "stdout",
     "output_type": "stream",
     "text": [
      "4\n",
      "7\n",
      "2\n",
      "1\n"
     ]
    }
   ],
   "source": [
    "def findSequence(seq):\n",
    "    if len(seq) == 0:\n",
    "        return 0\n",
    "    \n",
    "    max_len = 0\n",
    "    max_cur = 0\n",
    "    nums = set()\n",
    "    \n",
    "    for ii in range(len(seq)):\n",
    "        if len(nums) < 2:\n",
    "            nums.add(seq[ii])\n",
    "            max_len += 1\n",
    "            max_cur += 1\n",
    "        else:\n",
    "            if seq[ii] in nums:\n",
    "                max_cur += 1\n",
    "            else:\n",
    "                nums = set([seq[ii], seq[ii-1]])\n",
    "                if max_cur > max_len:\n",
    "                    max_len = max_cur\n",
    "                max_cur = 2\n",
    "\n",
    "    return max_len\n",
    "    \n",
    "\n",
    "print(findSequence([1, 3, 5, 3, 1, 3, 1, 5]))\n",
    "# 4\n",
    "\n",
    "print(findSequence([1,2,3,4,3,4,3,4,3,5]))\n",
    "# 7\n",
    "\n",
    "print(findSequence([1, 2]))\n",
    "# 2\n",
    "\n",
    "print(findSequence([1]))\n",
    "# 1"
   ]
  },
  {
   "cell_type": "markdown",
   "metadata": {},
   "source": [
    "# Validate Binary Search Tree (Facebook)\n",
    "You are given the root of a binary search tree. Return true if it is a valid binary search tree, and false otherwise. Recall that a binary search tree has the property that all values in the left subtree are less than or equal to the root, and all values in the right subtree are greater than or equal to the root."
   ]
  },
  {
   "cell_type": "code",
   "execution_count": 11,
   "metadata": {},
   "outputs": [
    {
     "name": "stdout",
     "output_type": "stream",
     "text": [
      "True\n",
      "True\n",
      "False\n",
      "True\n",
      "False\n"
     ]
    }
   ],
   "source": [
    "class TreeNode:\n",
    "    def __init__(self, key):\n",
    "        self.left = None\n",
    "        self.right = None\n",
    "        self.key = key\n",
    "\n",
    "def is_bst(root):\n",
    "    if root is None:\n",
    "        return True\n",
    "    \n",
    "    test = is_bst(root.left) and is_bst(root.right)\n",
    "    if not test:\n",
    "        return False\n",
    "    \n",
    "    if root.left:\n",
    "        test = test and (root.left.key <= root.key)\n",
    "        \n",
    "    if not test:\n",
    "        return False\n",
    "    \n",
    "    if root.right:\n",
    "        test = root.right and test and (root.key <= root.right.key)    \n",
    "    return test \n",
    "    \n",
    "\n",
    "a = TreeNode(5)\n",
    "a.left = TreeNode(3)\n",
    "a.right = TreeNode(7)\n",
    "a.left.left = TreeNode(1)\n",
    "a.left.right = TreeNode(4)\n",
    "a.right.left = TreeNode(6)\n",
    "print(is_bst(a))\n",
    "\n",
    "#    5\n",
    "#   / \\\n",
    "#  3   7\n",
    "# / \\ /\n",
    "#1  4 6\n",
    "\n",
    "b = None\n",
    "print(is_bst(b))\n",
    "\n",
    "# {None}\n",
    "\n",
    "c = TreeNode(5)\n",
    "c.left = TreeNode(6)\n",
    "c.right = TreeNode(7)\n",
    "print(is_bst(c))\n",
    "\n",
    "#    5\n",
    "#   / \\\n",
    "#  6  7\n",
    "\n",
    "d = TreeNode(42)\n",
    "print(is_bst(d))\n",
    "\n",
    "#    42\n",
    "\n",
    "e = TreeNode(5)\n",
    "e.left = TreeNode(3)\n",
    "e.right = TreeNode(7)\n",
    "e.left.left = TreeNode(4)\n",
    "e.left.right = TreeNode(1)\n",
    "e.right.left = TreeNode(6)\n",
    "print(is_bst(e))\n",
    "\n",
    "#    5\n",
    "#   / \\\n",
    "#  3   7\n",
    "# / \\ /\n",
    "#4  1 6"
   ]
  },
  {
   "cell_type": "markdown",
   "metadata": {},
   "source": [
    "## Floor and Ceiling of a Binary Search Tree (Apple)\n",
    "Given an integer k and a binary search tree, find the floor (less than or equal to) of k, and the ceiling (larger than or equal to) of k. If either does not exist, then print them as None."
   ]
  },
  {
   "cell_type": "code",
   "execution_count": null,
   "metadata": {},
   "outputs": [],
   "source": [
    "class Node:\n",
    "    def __init__(self, value):\n",
    "        self.left = None\n",
    "        self.right = None\n",
    "        self.value = value\n",
    "\n",
    "def findCeilingFloor(root_node, k, floor=None, ceil=None):\n",
    "    # finding floor\n",
    "    current = root_node\n",
    "    while (current is not None) and current.left\n",
    "    \n",
    "    return (floor, ceil)\n",
    "\n",
    "root = Node(8) \n",
    "root.left = Node(4) \n",
    "root.right = Node(12) \n",
    "  \n",
    "root.left.left = Node(2) \n",
    "root.left.right = Node(6) \n",
    "  \n",
    "root.right.left = Node(10) \n",
    "root.right.right = Node(14) \n",
    "\n",
    "print(findCeilingFloor(root, 5))\n",
    "# (4, 6)\n"
   ]
  },
  {
   "cell_type": "markdown",
   "metadata": {},
   "source": [
    "## Non-decreasing Array with Single Modification (Microsoft)\n",
    "\n",
    "You are given an array of integers in an arbitrary order. Return whether or not it is possible to make the array non-decreasing by modifying at most 1 element to any value.\n",
    "\n",
    "We define an array is non-decreasing if array[i] <= array[i + 1] holds for every i (1 <= i < n).\n",
    "\n",
    "Example:\n",
    "\n",
    "> [13, 4, 7] should return true, since we can modify 13 to any value 4 or less, to make it non-decreasing.\n",
    "> \n",
    "> [13, 4, 1] however, should return false, since there is no way to modify just one element to make the array non-decreasing.\n",
    "\n",
    "\n"
   ]
  },
  {
   "cell_type": "code",
   "execution_count": 69,
   "metadata": {},
   "outputs": [
    {
     "name": "stdout",
     "output_type": "stream",
     "text": [
      "True\n",
      "False\n"
     ]
    }
   ],
   "source": [
    "def check(lst):\n",
    "    if len(lst) in [0, 1, 2]:\n",
    "        return True\n",
    "    counter = 0\n",
    "    \n",
    "    for ii in range(len(lst)-1):\n",
    "        if lst[ii] > lst[ii + 1]:\n",
    "            counter += 1\n",
    "    \n",
    "    return counter <= 1\n",
    "\n",
    "print(check([13, 4, 7]))\n",
    "# True\n",
    "print(check([5,1,3,2,5]))\n",
    "# False\n"
   ]
  },
  {
   "cell_type": "markdown",
   "metadata": {},
   "source": [
    "## Find the non-duplicate number (Facebook)\n",
    "\n",
    "Given a list of numbers, where every number shows up twice except for one number, find that one number.\n",
    "\n",
    "Example:\n",
    "> Input: [4, 3, 2, 4, 1, 3, 2]\n",
    ">\n",
    "> Output: 1\n",
    "\n",
    "Challenge: Find a way to do this using O(1) memory.\n"
   ]
  },
  {
   "cell_type": "code",
   "execution_count": 68,
   "metadata": {},
   "outputs": [
    {
     "name": "stdout",
     "output_type": "stream",
     "text": [
      "None\n",
      "42\n",
      "42\n",
      "-42\n"
     ]
    }
   ],
   "source": [
    "def singleNumber(nums):\n",
    "    if len(nums) == 0:\n",
    "        return None\n",
    "    \n",
    "    nums.sort()\n",
    "    \n",
    "    if len(nums) == 1:\n",
    "        return nums[0]\n",
    "    \n",
    "    if nums[0] != nums[1]:\n",
    "        return nums[0]\n",
    "    \n",
    "    for ii in range(1,len(nums)-1):\n",
    "        if nums[ii-1] != nums[ii] and nums[ii] != nums[ii+1]:\n",
    "            return nums[ii]\n",
    "        \n",
    "    return nums[len(nums)-1]\n",
    "\n",
    "print(singleNumber([]))\n",
    "# None\n",
    "print(singleNumber([42]))\n",
    "# 42\n",
    "print(singleNumber([1,42,1]))\n",
    "# 42\n",
    "print(singleNumber([2, 2, -42, 3, 4, 5, 3, 5, 4]))\n",
    "# -42"
   ]
  },
  {
   "cell_type": "markdown",
   "metadata": {},
   "source": [
    "## Contiguous Subarray with Maximum Sum (Twitter)\n",
    "\n",
    "You are given an array of integers. Find the maximum sum of all possible contiguous subarrays of the array.\n",
    "\n",
    "Example:\n",
    "\n",
    "> [34, -50, 42, 14, -5, 86]\n",
    "\n",
    "Given this input array, the output should be 137. The contiguous subarray with the largest sum is [42, 14, -5, 86].\n",
    "\n",
    "Your solution should run in linear time.\n",
    "\n",
    "Solved using **Kadane's Algorithm** [1]:\n",
    "\n",
    "```python\n",
    "Initialize:\n",
    "    max_so_far = 0\n",
    "    max_ending_here = 0\n",
    "\n",
    "Loop for each element of the array\n",
    "  (a) max_ending_here = max_ending_here + a[i]\n",
    "  (b) if(max_ending_here < 0)\n",
    "            max_ending_here = 0\n",
    "  (c) if(max_so_far < max_ending_here)\n",
    "            max_so_far = max_ending_here\n",
    "return max_so_far\n",
    "```\n",
    "\n",
    "### Sources:\n",
    "[1] [https://www.geeksforgeeks.org/largest-sum-contiguous-subarray/](https://www.geeksforgeeks.org/largest-sum-contiguous-subarray/)\n"
   ]
  },
  {
   "cell_type": "code",
   "execution_count": 32,
   "metadata": {},
   "outputs": [
    {
     "name": "stdout",
     "output_type": "stream",
     "text": [
      "137\n"
     ]
    }
   ],
   "source": [
    "import copy\n",
    "\n",
    "def max_subarray_sum(arr):\n",
    "    max_so_far = 0\n",
    "    max_ending_here = 0\n",
    "    \n",
    "    for ii in range(len(arr)):\n",
    "        max_ending_here += arr[ii]\n",
    "        if max_ending_here < 0:\n",
    "            max_ending_here = 0\n",
    "        if max_so_far < max_ending_here:\n",
    "            max_so_far = max_ending_here\n",
    "            \n",
    "    return max_so_far\n",
    "    \n",
    "\n",
    "print(max_subarray_sum([49, -50, 42, 14, -5, 86]))\n",
    "# 137\n"
   ]
  },
  {
   "cell_type": "markdown",
   "metadata": {},
   "source": [
    "## Queue Using Two Stacks (Apple)\n",
    "\n",
    "Implement a queue class using two stacks. A queue is a data structure that supports the FIFO protocol (First in = first out). Your class should support the enqueue and dequeue methods like a standard queue."
   ]
  },
  {
   "cell_type": "code",
   "execution_count": 16,
   "metadata": {},
   "outputs": [
    {
     "name": "stdout",
     "output_type": "stream",
     "text": [
      "[1, 2, 3]\n",
      "1\n",
      "2\n",
      "3\n"
     ]
    }
   ],
   "source": [
    "class DoubleLinkedList:\n",
    "        def __init__(self, val, next = None, prev = None):\n",
    "            self.val = val\n",
    "            self.next = next\n",
    "            self.prev = prev\n",
    "            \n",
    "class Queue:            \n",
    "    def __init__(self):\n",
    "        self.first = None\n",
    "        self.last = None\n",
    "        self.n = 0\n",
    "    \n",
    "    def enqueue(self, val):\n",
    "        if self.first is None:\n",
    "            self.first = DoubleLinkedList(val)\n",
    "            self.last = self.first\n",
    "        else:\n",
    "            new = DoubleLinkedList(val)\n",
    "            new.prev = self.last\n",
    "            self.last.next = new \n",
    "            self.last = new\n",
    "        self.n += 1\n",
    "            \n",
    "    def dequeue(self):\n",
    "        if self.first is None:\n",
    "            return None\n",
    "        else:\n",
    "            ans = self.first.val\n",
    "            self.first = self.first.next\n",
    "            if self.first is not None:\n",
    "                self.first.prev = None\n",
    "            self.n -= 1\n",
    "            return ans\n",
    "\n",
    "    def __str__(self):\n",
    "        ans = '['\n",
    "        current = self.first\n",
    "        while current is not None:\n",
    "            ans += str(current.val)\n",
    "            if current.next is not None:\n",
    "                ans += ', '\n",
    "            current = current.next\n",
    "        ans += ']'        \n",
    "        return ans\n",
    "    \n",
    "    def __len__(self):\n",
    "        return n\n",
    "    \n",
    "q = Queue()\n",
    "q.enqueue(1)\n",
    "q.enqueue(2)\n",
    "q.enqueue(3)\n",
    "print(q)\n",
    "print(q.dequeue())\n",
    "print(q.dequeue())\n",
    "print(q.dequeue())\n",
    "# 1 2 3\n"
   ]
  },
  {
   "cell_type": "code",
   "execution_count": 22,
   "metadata": {},
   "outputs": [
    {
     "name": "stdout",
     "output_type": "stream",
     "text": [
      "9\n",
      "[1, 2, 3]\n"
     ]
    }
   ],
   "source": [
    "class testClass:\n",
    "    def __init__(self):\n",
    "        a = list()\n",
    "    \n",
    "    def push(self, val):\n",
    "        a.append(val)\n",
    "    \n",
    "    def pop(self, val):\n",
    "        return a.pop()\n",
    "    \n",
    "    def __len__(self):\n",
    "        return len(a)\n",
    "    \n",
    "b = testClass()\n",
    "b.push(5)\n",
    "print(len(b))\n",
    "\n",
    "num = [i for i in range(1,4)]\n",
    "print(num)"
   ]
  },
  {
   "cell_type": "code",
   "execution_count": null,
   "metadata": {},
   "outputs": [],
   "source": []
  }
 ],
 "metadata": {
  "kernelspec": {
   "display_name": "Python 3",
   "language": "python",
   "name": "python3"
  },
  "language_info": {
   "codemirror_mode": {
    "name": "ipython",
    "version": 3
   },
   "file_extension": ".py",
   "mimetype": "text/x-python",
   "name": "python",
   "nbconvert_exporter": "python",
   "pygments_lexer": "ipython3",
   "version": "3.7.3"
  }
 },
 "nbformat": 4,
 "nbformat_minor": 2
}
